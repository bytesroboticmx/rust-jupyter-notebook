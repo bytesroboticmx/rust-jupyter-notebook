{
 "cells": [
  {
   "cell_type": "markdown",
   "id": "505cf9fb-dd46-416b-8ed3-b1ee419fbe71",
   "metadata": {},
   "source": [
    "Fundamentos del Lenguaje Rust\n",
    "Datos primitivos:"
   ]
  },
  {
   "cell_type": "code",
   "execution_count": 18,
   "id": "b02b4b97-c7de-41df-a8f7-f70eedc0bca8",
   "metadata": {},
   "outputs": [
    {
     "name": "stdout",
     "output_type": "stream",
     "text": [
      "Un valor booleano: true\n",
      "Un valor flotante: 1\n",
      "Un valor entero: 5\n",
      "Un valor flotante tradicional: 3\n",
      "Un valor entero tradicional: 7\n",
      "Un valor mutable: 4294967296\n",
      "Otro valor mutable: true\n"
     ]
    }
   ],
   "source": [
    "//fn main() {\n",
    "    // Variables can be type annotated.\n",
    "    let unBooleano: bool = true;\n",
    "\n",
    "    let unFlotante: f64 = 1.0;  // Regular annotation\n",
    "    let unEntero = 5i32; // Suffix annotation\n",
    "\n",
    "    // Or a default will be used.\n",
    "    let flotanteTrad   = 3.0; // `f64`\n",
    "    let enteroTrad = 7;   // `i32`\n",
    "\n",
    "    // A type can also be inferred from context.\n",
    "    let mut tipoInferido = 12; // Type i64 is inferred from another line.\n",
    "    tipoInferido = 4294967296i64;\n",
    "\n",
    "    // A mutable variable's value can be changed.\n",
    "    //let mut mutable = 12; // Mutable `i32`\n",
    "    mutable = 21;\n",
    "\n",
    "    // Error! The type of a variable can't be changed.\n",
    "    mutable = 25;\n",
    "\n",
    "    // Variables can be overwritten with shadowing.\n",
    "   let mutable = true;\n",
    "    println!(\"Un valor booleano: {}\",unBooleano);\n",
    "    println!(\"Un valor flotante: {}\", unFlotante);\n",
    "    println!(\"Un valor entero: {}\", unEntero);\n",
    "    println!(\"Un valor flotante tradicional: {}\", flotanteTrad);\n",
    "    println!(\"Un valor entero tradicional: {}\", enteroTrad);\n",
    "    println!(\"Un valor mutable: {}\", tipoInferido);\n",
    "    println!(\"Otro valor mutable: {}\", mutable);\n",
    "\n",
    "//}"
   ]
  },
  {
   "cell_type": "markdown",
   "id": "782dc858-1af5-4e6c-bf65-3354689ef4b0",
   "metadata": {},
   "source": [
    "Literales y operadores"
   ]
  },
  {
   "cell_type": "code",
   "execution_count": 21,
   "id": "48205e91-a781-4ef9-84fd-bd9090033bcb",
   "metadata": {},
   "outputs": [
    {
     "name": "stdout",
     "output_type": "stream",
     "text": [
      "1 + 2 = 3\n",
      "1 - 2 = -1\n",
      "1e4 es 10000, -2.5e-3 es -0.0025\n",
      "true AND false es false\n",
      "true OR false es true\n",
      "NOT true es false\n",
      "0011 AND 0101 es 0001\n",
      "0011 OR 0101 es 0111\n",
      "0011 XOR 0101 es 0110\n",
      "1 << 5 es 32\n",
      "0x80 >> 2 es 0x20\n",
      "Un millon se escribe: 1000000\n"
     ]
    }
   ],
   "source": [
    "// Integer addition\n",
    "    println!(\"1 + 2 = {}\", 1u32 + 2);\n",
    "\n",
    "    // Integer subtraction\n",
    "    println!(\"1 - 2 = {}\", 1i32 - 2);\n",
    "    // TODO ^ Try changing `1i32` to `1u32` to see why the type is important\n",
    "\n",
    "    // Scientific notation\n",
    "    println!(\"1e4 es {}, -2.5e-3 es {}\", 1e4, -2.5e-3);\n",
    "\n",
    "    // Short-circuiting boolean logic\n",
    "    println!(\"true AND false es {}\", true && false);\n",
    "    println!(\"true OR false es {}\", true || false);\n",
    "    println!(\"NOT true es {}\", !true);\n",
    "\n",
    "    // Bitwise operations\n",
    "    println!(\"0011 AND 0101 es {:04b}\", 0b0011u32 & 0b0101);\n",
    "    println!(\"0011 OR 0101 es {:04b}\", 0b0011u32 | 0b0101);\n",
    "    println!(\"0011 XOR 0101 es {:04b}\", 0b0011u32 ^ 0b0101);\n",
    "    println!(\"1 << 5 es {}\", 1u32 << 5);\n",
    "    println!(\"0x80 >> 2 es 0x{:x}\", 0x80u32 >> 2);\n",
    "\n",
    "    // Use underscores to improve readability!\n",
    "    println!(\"Un millon se escribe: {}\", 1_000_000u32);"
   ]
  },
  {
   "cell_type": "markdown",
   "id": "ca42782e-9bcc-4da9-9bf2-428eb3011dca",
   "metadata": {},
   "source": [
    "Tuplas"
   ]
  },
  {
   "cell_type": "code",
   "execution_count": 25,
   "id": "b067ae15-a3be-49e1-9775-84d204dca62a",
   "metadata": {},
   "outputs": [
    {
     "name": "stdout",
     "output_type": "stream",
     "text": [
      "Primer valor de la tupla tipo long: 1\n",
      "Segundo valor de la tupla tipo long: 2\n",
      "Tupla de tuplas: ((1, 2, 2), (4, -1), -2)\n",
      "Es el par (1, true)\n",
      "El par invertido (true, 1)\n",
      "Un elemento de la tupla: (5,)\n",
      "Solo un entero: 5\n",
      "1, \"Hola\", 4.5, true\n",
      "Matrix(1.1, 1.2, 2.1, 2.2)\n"
     ]
    }
   ],
   "source": [
    "// Tuples can be used as function arguments and as return values.\n",
    "fn reverse(pair: (i32, bool)) -> (bool, i32) {\n",
    "    // `let` can be used to bind the members of a tuple to variables.\n",
    "    let (int_param, bool_param) = pair;\n",
    "\n",
    "    (bool_param, int_param)\n",
    "}\n",
    "\n",
    "// The following struct is for the activity.\n",
    "#[derive(Debug)]\n",
    "struct Matrix(f32, f32, f32, f32);\n",
    "\n",
    "//fn main() {\n",
    "    // A tuple with a bunch of different types.\n",
    "    let long_tuple = (1u8, 2u16, 3u32, 4u64,\n",
    "                      -1i8, -2i16, -3i32, -4i64,\n",
    "                      0.1f32, 0.2f64,\n",
    "                      'a', true);\n",
    "\n",
    "    // Values can be extracted from the tuple using tuple indexing.\n",
    "    println!(\"Primer valor de la tupla tipo long: {}\", long_tuple.0);\n",
    "    println!(\"Segundo valor de la tupla tipo long: {}\", long_tuple.1);\n",
    "\n",
    "    // Tuples can be tuple members.\n",
    "    let tuple_of_tuples = ((1u8, 2u16, 2u32), (4u64, -1i8), -2i16);\n",
    "\n",
    "    // Tuples are printable.\n",
    "    println!(\"Tupla de tuplas: {:?}\", tuple_of_tuples);\n",
    "\n",
    "    // But long Tuples (more than 12 elements) cannot be printed.\n",
    "    //let too_long_tuple = (1, 2, 3, 4, 5, 6, 7, 8, 9, 10, 11, 12, 13);\n",
    "    //println!(\"Too long tuple: {:?}\", too_long_tuple);\n",
    "    // TODO ^ Uncomment the above 2 lines to see the compiler error\n",
    "\n",
    "    let pair = (1, true);\n",
    "    println!(\"Es el par {:?}\", pair);\n",
    "\n",
    "    println!(\"El par invertido {:?}\", reverse(pair));\n",
    "\n",
    "    // To create one element tuples, the comma is required to tell them apart\n",
    "    // from a literal surrounded by parentheses.\n",
    "    println!(\"Un elemento de la tupla: {:?}\", (5u32,));\n",
    "    println!(\"Solo un entero: {:?}\", (5u32));\n",
    "\n",
    "    // Tuples can be destructured to create bindings.\n",
    "    let tuple = (1, \"Hola\", 4.5, true);\n",
    "\n",
    "    let (a, b, c, d) = tuple;\n",
    "    println!(\"{:?}, {:?}, {:?}, {:?}\", a, b, c, d);\n",
    "\n",
    "    let matrix = Matrix(1.1, 1.2, 2.1, 2.2);\n",
    "    println!(\"{:?}\", matrix);\n",
    "//}"
   ]
  },
  {
   "cell_type": "code",
   "execution_count": null,
   "id": "6394374d-b29f-4417-99bf-84c6418877cb",
   "metadata": {},
   "outputs": [],
   "source": []
  }
 ],
 "metadata": {
  "kernelspec": {
   "display_name": "Rust",
   "language": "rust",
   "name": "rust"
  },
  "language_info": {
   "codemirror_mode": "rust",
   "file_extension": ".rs",
   "mimetype": "text/rust",
   "name": "Rust",
   "pygment_lexer": "rust",
   "version": ""
  }
 },
 "nbformat": 4,
 "nbformat_minor": 5
}
