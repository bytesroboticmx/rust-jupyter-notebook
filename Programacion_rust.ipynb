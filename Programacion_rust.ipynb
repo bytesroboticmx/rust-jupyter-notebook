{
 "cells": [
  {
   "cell_type": "markdown",
   "id": "05fb1dcb-4302-4ba9-8a59-aa680ecb7171",
   "metadata": {},
   "source": [
    "Programacion en Rust con Jupyter-Notebook"
   ]
  },
  {
   "cell_type": "code",
   "execution_count": null,
   "id": "cc123271-7bd2-4567-a850-ed95e9556413",
   "metadata": {},
   "outputs": [],
   "source": [
    "// Definir una función que saluda\n",
    "fn saludar(nombre: &str) -> String {\n",
    "    format!(\"Bienvenido ingenierp(a), {}!\", nombre)\n",
    "}\n",
    "\n",
    "// Usar la función\n",
    "println!(\"{}\", saludar(\"al lenguaje Rust\"));\n"
   ]
  },
  {
   "cell_type": "markdown",
   "id": "9b4fdfee-3ec1-4fb4-bb42-470867b50b99",
   "metadata": {},
   "source": [
    "Variables mutables e inmtables."
   ]
  },
  {
   "cell_type": "code",
   "execution_count": null,
   "id": "86d7b886-d63c-46a2-b125-ae7a14f49a83",
   "metadata": {},
   "outputs": [],
   "source": [
    "// Variable inmutable\n",
    "let x = 5;\n",
    "println!(\"El valor de x es: {}\", x);\n",
    "\n",
    "// Variable mutable\n",
    "let mut y = 5;\n",
    "println!(\"El valor de y es: {}\", y);\n",
    "y = 10; // Esto es posible porque y es mutable\n",
    "println!(\"El valor de y ahora es: {}\", y);\n"
   ]
  },
  {
   "cell_type": "markdown",
   "id": "67cbc691-cd6c-4087-98b3-fae10f1b84d2",
   "metadata": {},
   "source": [
    "Uso de funciones, definición y llamada a una función simple:"
   ]
  },
  {
   "cell_type": "code",
   "execution_count": null,
   "id": "88146ec7-18b2-457a-8202-269140088c93",
   "metadata": {},
   "outputs": [],
   "source": [
    "fn suma(a: i32, b: i32) -> i32 {\n",
    "    a + b // Rust retorna la última expresión implícitamente\n",
    "}\n",
    "\n",
    "let resultado = suma(5, 7);\n",
    "println!(\"5 + 7 = {}\", resultado);\n"
   ]
  },
  {
   "cell_type": "markdown",
   "id": "b032ac21-4cd2-41b8-b935-81d2f689fa0b",
   "metadata": {},
   "source": [
    "Control de flujo: if para tomar decisiones"
   ]
  },
  {
   "cell_type": "code",
   "execution_count": null,
   "id": "79291dc1-d9c2-4b9a-90c3-34f88baab380",
   "metadata": {},
   "outputs": [],
   "source": [
    "let numero = 7;\n",
    "\n",
    "if numero < 5 {\n",
    "    println!(\"La condición fue verdadera\");\n",
    "} else {\n",
    "    println!(\"La condición fue falsa\");\n",
    "}\n"
   ]
  },
  {
   "cell_type": "markdown",
   "id": "651b7d77-9e5d-4c27-90f7-838b039a6cb8",
   "metadata": {},
   "source": [
    "Bucles, loop, que ejecuta un bloque de código indefinidamente hasta que se le indique detenerse explícitamente:"
   ]
  },
  {
   "cell_type": "code",
   "execution_count": null,
   "id": "c3299a0d-f9c6-4a8d-b926-8dbdde7e8843",
   "metadata": {},
   "outputs": [],
   "source": [
    "let mut contador = 0;\n",
    "\n",
    "loop {\n",
    "    contador += 1;\n",
    "\n",
    "    if contador == 3 {\n",
    "        println!(\"Tres\");\n",
    "        continue;\n",
    "    }\n",
    "\n",
    "    if contador == 5 {\n",
    "        println!(\"Ok, eso es suficiente\");\n",
    "\n",
    "        // Sale del bucle\n",
    "        break;\n",
    "    }\n",
    "}\n"
   ]
  },
  {
   "cell_type": "markdown",
   "id": "bbf98473-c96e-4d25-976c-2212d0595b43",
   "metadata": {},
   "source": [
    "Uso de vectores, Rust maneja las colecciones a través de varias estructuras, siendo Vec<T> una de las más comunes para listas:"
   ]
  },
  {
   "cell_type": "code",
   "execution_count": null,
   "id": "e47048f5-8a6f-4430-8fe9-dfca4cb73010",
   "metadata": {},
   "outputs": [],
   "source": [
    "let mut vec = Vec::new();\n",
    "\n",
    "// Añadir elementos al vector\n",
    "vec.push(1);\n",
    "vec.push(2);\n",
    "vec.push(3);\n",
    "\n",
    "// Iterar sobre los elementos del vector\n",
    "for x in vec.iter() {\n",
    "    println!(\"Valor: {}\", x);\n",
    "}\n"
   ]
  },
  {
   "cell_type": "markdown",
   "id": "0c943c3c-3b58-4897-8dbc-cd429fbc88fb",
   "metadata": {},
   "source": [
    "Estructuras y métodos, una estructura y método sencillas:"
   ]
  },
  {
   "cell_type": "code",
   "execution_count": null,
   "id": "10978b68-1847-4d2d-8c86-87bff3e77793",
   "metadata": {},
   "outputs": [],
   "source": [
    "struct Punto {\n",
    "    x: i32,\n",
    "    y: i32,\n",
    "}\n",
    "\n",
    "impl Punto {\n",
    "    fn distancia_al_origen(&self) -> f64 {\n",
    "        ((self.x.pow(2) + self.y.pow(2)) as f64).sqrt()\n",
    "    }\n",
    "}\n",
    "\n",
    "let punto = Punto { x: 3, y: 4 };\n",
    "println!(\"La distancia al origen es: {}\", punto.distancia_al_origen());\n"
   ]
  },
  {
   "cell_type": "markdown",
   "id": "9082e49d-21e5-468c-81ab-cd129c3e55ec",
   "metadata": {},
   "source": [
    "Las tablas de multiplicar del 1 al 10 con Rust:"
   ]
  },
  {
   "cell_type": "code",
   "execution_count": null,
   "id": "6554bd5c-539e-4c56-a8ef-82d243947363",
   "metadata": {},
   "outputs": [],
   "source": [
    "// Iterar sobre las tablas de multiplicar del 1 al 10\n",
    "for tabla in 1..=10 {\n",
    "    println!(\"Tabla del {}:\", tabla);\n",
    "    // Iterar sobre los números para multiplicar por 'tabla'\n",
    "    for numero in 1..=10 {\n",
    "        println!(\"{} x {} = {}\", tabla, numero, tabla * numero);\n",
    "    }\n",
    "    // Agregar una línea en blanco entre tablas para mejor legibilidad\n",
    "    println!(\"\");\n",
    "}\n"
   ]
  }
 ],
 "metadata": {
  "kernelspec": {
   "display_name": "Rust",
   "language": "rust",
   "name": "rust"
  },
  "language_info": {
   "codemirror_mode": "rust",
   "file_extension": ".rs",
   "mimetype": "text/rust",
   "name": "rust",
   "pygment_lexer": "rust",
   "version": ""
  }
 },
 "nbformat": 4,
 "nbformat_minor": 5
}
