{
 "cells": [
  {
   "cell_type": "markdown",
   "id": "05fb1dcb-4302-4ba9-8a59-aa680ecb7171",
   "metadata": {},
   "source": [
    "Programacion en Rust con Jupyter-Notebook"
   ]
  },
  {
   "cell_type": "code",
   "execution_count": 2,
   "id": "cc123271-7bd2-4567-a850-ed95e9556413",
   "metadata": {},
   "outputs": [
    {
     "name": "stdout",
     "output_type": "stream",
     "text": [
      "Bienvenido amigo(a), a Rust language!\n"
     ]
    }
   ],
   "source": [
    "// Definir una función que saluda\n",
    "fn saludar(nombre: &str) -> String {\n",
    "    format!(\"Bienvenido amigo(a), {}!\", nombre)\n",
    "}\n",
    "\n",
    "// Usar la función\n",
    "println!(\"{}\", saludar(\"a Rust language\"));\n"
   ]
  },
  {
   "cell_type": "markdown",
   "id": "9b4fdfee-3ec1-4fb4-bb42-470867b50b99",
   "metadata": {},
   "source": [
    "Variables mutables e inmtables."
   ]
  },
  {
   "cell_type": "code",
   "execution_count": 3,
   "id": "86d7b886-d63c-46a2-b125-ae7a14f49a83",
   "metadata": {},
   "outputs": [
    {
     "name": "stdout",
     "output_type": "stream",
     "text": [
      "El valor de x es: 5\n",
      "El valor de y es: 5\n",
      "El valor de y ahora es: 10\n"
     ]
    }
   ],
   "source": [
    "// Variable inmutable\n",
    "let x = 5;\n",
    "println!(\"El valor de x es: {}\", x);\n",
    "\n",
    "// Variable mutable\n",
    "let mut y = 5;\n",
    "println!(\"El valor de y es: {}\", y);\n",
    "y = 10; // Esto es posible porque y es mutable\n",
    "println!(\"El valor de y ahora es: {}\", y);\n"
   ]
  },
  {
   "cell_type": "markdown",
   "id": "67cbc691-cd6c-4087-98b3-fae10f1b84d2",
   "metadata": {},
   "source": [
    "Uso de funciones, definición y llamada a una función simple:"
   ]
  },
  {
   "cell_type": "code",
   "execution_count": 4,
   "id": "88146ec7-18b2-457a-8202-269140088c93",
   "metadata": {},
   "outputs": [
    {
     "name": "stdout",
     "output_type": "stream",
     "text": [
      "5 + 7 = 12\n"
     ]
    }
   ],
   "source": [
    "fn suma(a: i32, b: i32) -> i32 {\n",
    "    a + b // Rust retorna la última expresión implícitamente\n",
    "}\n",
    "\n",
    "let resultado = suma(5, 7);\n",
    "println!(\"5 + 7 = {}\", resultado);\n"
   ]
  },
  {
   "cell_type": "markdown",
   "id": "b032ac21-4cd2-41b8-b935-81d2f689fa0b",
   "metadata": {},
   "source": [
    "Control de flujo: if para tomar decisiones"
   ]
  },
  {
   "cell_type": "code",
   "execution_count": 5,
   "id": "79291dc1-d9c2-4b9a-90c3-34f88baab380",
   "metadata": {},
   "outputs": [
    {
     "name": "stdout",
     "output_type": "stream",
     "text": [
      "La condición fue falsa\n"
     ]
    },
    {
     "data": {
      "text/plain": [
       "()"
      ]
     },
     "execution_count": 5,
     "metadata": {},
     "output_type": "execute_result"
    }
   ],
   "source": [
    "let numero = 7;\n",
    "\n",
    "if numero < 5 {\n",
    "    println!(\"La condición fue verdadera\");\n",
    "} else {\n",
    "    println!(\"La condición fue falsa\");\n",
    "}\n"
   ]
  },
  {
   "cell_type": "markdown",
   "id": "651b7d77-9e5d-4c27-90f7-838b039a6cb8",
   "metadata": {},
   "source": [
    "Bucles, loop, que ejecuta un bloque de código indefinidamente hasta que se le indique detenerse explícitamente:"
   ]
  },
  {
   "cell_type": "code",
   "execution_count": 6,
   "id": "c3299a0d-f9c6-4a8d-b926-8dbdde7e8843",
   "metadata": {},
   "outputs": [
    {
     "name": "stdout",
     "output_type": "stream",
     "text": [
      "Tres\n",
      "Ok, eso es suficiente\n"
     ]
    },
    {
     "data": {
      "text/plain": [
       "()"
      ]
     },
     "execution_count": 6,
     "metadata": {},
     "output_type": "execute_result"
    }
   ],
   "source": [
    "let mut contador = 0;\n",
    "\n",
    "loop {\n",
    "    contador += 1;\n",
    "\n",
    "    if contador == 3 {\n",
    "        println!(\"Tres\");\n",
    "        continue;\n",
    "    }\n",
    "\n",
    "    if contador == 5 {\n",
    "        println!(\"Ok, eso es suficiente\");\n",
    "\n",
    "        // Sale del bucle\n",
    "        break;\n",
    "    }\n",
    "}\n"
   ]
  },
  {
   "cell_type": "markdown",
   "id": "bbf98473-c96e-4d25-976c-2212d0595b43",
   "metadata": {},
   "source": [
    "Uso de vectores, Rust maneja las colecciones a través de varias estructuras, siendo Vec<T> una de las más comunes para listas:"
   ]
  },
  {
   "cell_type": "code",
   "execution_count": 7,
   "id": "e47048f5-8a6f-4430-8fe9-dfca4cb73010",
   "metadata": {},
   "outputs": [
    {
     "name": "stdout",
     "output_type": "stream",
     "text": [
      "Valor: 1\n",
      "Valor: 2\n",
      "Valor: 3\n"
     ]
    },
    {
     "data": {
      "text/plain": [
       "()"
      ]
     },
     "execution_count": 7,
     "metadata": {},
     "output_type": "execute_result"
    }
   ],
   "source": [
    "let mut vec = Vec::new();\n",
    "\n",
    "// Añadir elementos al vector\n",
    "vec.push(1);\n",
    "vec.push(2);\n",
    "vec.push(3);\n",
    "\n",
    "// Iterar sobre los elementos del vector\n",
    "for x in vec.iter() {\n",
    "    println!(\"Valor: {}\", x);\n",
    "}\n"
   ]
  },
  {
   "cell_type": "markdown",
   "id": "0c943c3c-3b58-4897-8dbc-cd429fbc88fb",
   "metadata": {},
   "source": [
    "Estructuras y métodos, una estructura y método sencillas:"
   ]
  },
  {
   "cell_type": "code",
   "execution_count": 8,
   "id": "10978b68-1847-4d2d-8c86-87bff3e77793",
   "metadata": {},
   "outputs": [
    {
     "name": "stdout",
     "output_type": "stream",
     "text": [
      "La distancia al origen es: 5\n"
     ]
    }
   ],
   "source": [
    "struct Punto {\n",
    "    x: i32,\n",
    "    y: i32,\n",
    "}\n",
    "\n",
    "impl Punto {\n",
    "    fn distancia_al_origen(&self) -> f64 {\n",
    "        ((self.x.pow(2) + self.y.pow(2)) as f64).sqrt()\n",
    "    }\n",
    "}\n",
    "\n",
    "let punto = Punto { x: 3, y: 4 };\n",
    "println!(\"La distancia al origen es: {}\", punto.distancia_al_origen());\n"
   ]
  },
  {
   "cell_type": "markdown",
   "id": "9082e49d-21e5-468c-81ab-cd129c3e55ec",
   "metadata": {},
   "source": [
    "Las tablas de multiplicar del 1 al 10 con Rust:"
   ]
  },
  {
   "cell_type": "code",
   "execution_count": 9,
   "id": "6554bd5c-539e-4c56-a8ef-82d243947363",
   "metadata": {},
   "outputs": [
    {
     "name": "stdout",
     "output_type": "stream",
     "text": [
      "Tabla del 1:\n",
      "1 x 1 = 1\n",
      "1 x 2 = 2\n",
      "1 x 3 = 3\n",
      "1 x 4 = 4\n",
      "1 x 5 = 5\n",
      "1 x 6 = 6\n",
      "1 x 7 = 7\n",
      "1 x 8 = 8\n",
      "1 x 9 = 9\n",
      "1 x 10 = 10\n",
      "\n",
      "Tabla del 2:\n",
      "2 x 1 = 2\n",
      "2 x 2 = 4\n",
      "2 x 3 = 6\n",
      "2 x 4 = 8\n",
      "2 x 5 = 10\n",
      "2 x 6 = 12\n",
      "2 x 7 = 14\n",
      "2 x 8 = 16\n",
      "2 x 9 = 18\n",
      "2 x 10 = 20\n",
      "\n",
      "Tabla del 3:\n",
      "3 x 1 = 3\n",
      "3 x 2 = 6\n",
      "3 x 3 = 9\n",
      "3 x 4 = 12\n",
      "3 x 5 = 15\n",
      "3 x 6 = 18\n",
      "3 x 7 = 21\n",
      "3 x 8 = 24\n",
      "3 x 9 = 27\n",
      "3 x 10 = 30\n",
      "\n",
      "Tabla del 4:\n",
      "4 x 1 = 4\n",
      "4 x 2 = 8\n",
      "4 x 3 = 12\n",
      "4 x 4 = 16\n",
      "4 x 5 = 20\n",
      "4 x 6 = 24\n",
      "4 x 7 = 28\n",
      "4 x 8 = 32\n",
      "4 x 9 = 36\n",
      "4 x 10 = 40\n",
      "\n",
      "Tabla del 5:\n",
      "5 x 1 = 5\n",
      "5 x 2 = 10\n",
      "5 x 3 = 15\n",
      "5 x 4 = 20\n",
      "5 x 5 = 25\n",
      "5 x 6 = 30\n",
      "5 x 7 = 35\n",
      "5 x 8 = 40\n",
      "5 x 9 = 45\n",
      "5 x 10 = 50\n",
      "\n",
      "Tabla del 6:\n",
      "6 x 1 = 6\n",
      "6 x 2 = 12\n",
      "6 x 3 = 18\n",
      "6 x 4 = 24\n",
      "6 x 5 = 30\n",
      "6 x 6 = 36\n",
      "6 x 7 = 42\n",
      "6 x 8 = 48\n",
      "6 x 9 = 54\n",
      "6 x 10 = 60\n",
      "\n",
      "Tabla del 7:\n",
      "7 x 1 = 7\n",
      "7 x 2 = 14\n",
      "7 x 3 = 21\n",
      "7 x 4 = 28\n",
      "7 x 5 = 35\n",
      "7 x 6 = 42\n",
      "7 x 7 = 49\n",
      "7 x 8 = 56\n",
      "7 x 9 = 63\n",
      "7 x 10 = 70\n",
      "\n",
      "Tabla del 8:\n",
      "8 x 1 = 8\n",
      "8 x 2 = 16\n",
      "8 x 3 = 24\n",
      "8 x 4 = 32\n",
      "8 x 5 = 40\n",
      "8 x 6 = 48\n",
      "8 x 7 = 56\n",
      "8 x 8 = 64\n",
      "8 x 9 = 72\n",
      "8 x 10 = 80\n",
      "\n",
      "Tabla del 9:\n",
      "9 x 1 = 9\n",
      "9 x 2 = 18\n",
      "9 x 3 = 27\n",
      "9 x 4 = 36\n",
      "9 x 5 = 45\n",
      "9 x 6 = 54\n",
      "9 x 7 = 63\n",
      "9 x 8 = 72\n",
      "9 x 9 = 81\n",
      "9 x 10 = 90\n",
      "\n",
      "Tabla del 10:\n",
      "10 x 1 = 10\n",
      "10 x 2 = 20\n",
      "10 x 3 = 30\n",
      "10 x 4 = 40\n",
      "10 x 5 = 50\n",
      "10 x 6 = 60\n",
      "10 x 7 = 70\n",
      "10 x 8 = 80\n",
      "10 x 9 = 90\n",
      "10 x 10 = 100\n",
      "\n"
     ]
    },
    {
     "data": {
      "text/plain": [
       "()"
      ]
     },
     "execution_count": 9,
     "metadata": {},
     "output_type": "execute_result"
    }
   ],
   "source": [
    "// Iterar sobre las tablas de multiplicar del 1 al 10\n",
    "for tabla in 1..=10 {\n",
    "    println!(\"Tabla del {}:\", tabla);\n",
    "    // Iterar sobre los números para multiplicar por 'tabla'\n",
    "    for numero in 1..=10 {\n",
    "        println!(\"{} x {} = {}\", tabla, numero, tabla * numero);\n",
    "    }\n",
    "    // Agregar una línea en blanco entre tablas para mejor legibilidad\n",
    "    println!(\"\");\n",
    "}\n"
   ]
  },
  {
   "cell_type": "code",
   "execution_count": null,
   "id": "72d99469-a977-4030-b195-a10ea937c12a",
   "metadata": {},
   "outputs": [],
   "source": []
  }
 ],
 "metadata": {
  "kernelspec": {
   "display_name": "Rust",
   "language": "rust",
   "name": "rust"
  },
  "language_info": {
   "codemirror_mode": "rust",
   "file_extension": ".rs",
   "mimetype": "text/rust",
   "name": "rust",
   "pygment_lexer": "rust",
   "version": ""
  }
 },
 "nbformat": 4,
 "nbformat_minor": 5
}
